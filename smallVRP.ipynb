{
 "cells": [
  {
   "cell_type": "markdown",
   "metadata": {},
   "source": [
    "# Little VRP\n",
    "## Dieses Notebook enthält ein einfaches VRP visualisiert in einem Digraph basierend auf networkx berechnet mit VehicleRoutingProblem."
   ]
  },
  {
   "cell_type": "code",
   "execution_count": null,
   "metadata": {},
   "outputs": [],
   "source": [
    "!pip install vrpy\n",
    "import numpy as np\n",
    "import networkx as nx\n",
    "from networkx import DiGraph\n",
    "from vrpy import VehicleRoutingProblem\n",
    "import matplotlib.pyplot as plt\n",
    "\n",
    "# Problem aufbauen\n",
    "G=DiGraph()\n",
    "G.add_edge('Source', 1, cost=1)\n",
    "G.add_edge('Source', 2, cost=2)\n",
    "G.add_edge(1, 'Sink', cost=0)\n",
    "G.add_edge(2, 1, cost=1)\n",
    "G.nodes[1]['demand']=5\n",
    "G.nodes[2]['demand']=4\n",
    "# Alle Kanten, Knoten und Nachfrage aufgebaut\n",
    "# Berechnung\n",
    "prob= VehicleRoutingProblem(G, load_capacity=10)\n",
    "prob.solve()\n",
    "\n",
    "# Ergebnis der Berechnung\n",
    "R=prob.best_routes\n", 
    "\n",
    "# Umformen der Kantenliste in Knotenpäärchen \n",
    "Routes=R[1]\n",
    "Rou2=Routes.copy()\n",
    "Rou2=Rou2[1:-1]\n",
    "print(Rou2)\n",
    "posi=[]\n",
    "for i in Rou2:\n",
    "    a=Routes.index(i)\n",
    "    posi.append(a)\n",
    "for j,l in zip(posi,Rou2):\n",
    "    Routes.insert(j*2,l)\n",
    "Kanten=int(len(R[1])/2)\n",
    "Routes=np.reshape(Routes,(Kanten,2))\n",
    "Routes=Routes.tolist()\n",
    "\n",
    "# Plotten des Graphes und des Ergebnisses\n",
    "pos=nx.spring_layout(G)\n",
    "nx.draw_networkx_nodes(G, pos, cmap=plt.get_cmap('jet'), node_size=200)\n",
    "nx.draw_networkx_labels(G, pos)\n",
    "nx.draw_networkx_edges(G, pos, edgelist=[('Source',2),(2,1),(1, 'Sink')], edge_color='r', arrows=True)\n",
    "plt.show()"
   ]
  }
 ],
 "metadata": {
  "kernelspec": {
   "display_name": "Python 3",
   "language": "python",
   "name": "python3"
  },
  "language_info": {
   "codemirror_mode": {
    "name": "ipython",
    "version": 3
   },
   "file_extension": ".py",
   "mimetype": "text/x-python",
   "name": "python",
   "nbconvert_exporter": "python",
   "pygments_lexer": "ipython3",
   "version": "3.8.10"
  }
 },
 "nbformat": 4,
 "nbformat_minor": 4
}
